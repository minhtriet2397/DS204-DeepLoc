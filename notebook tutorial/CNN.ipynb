{
 "cells": [
  {
   "cell_type": "markdown",
   "metadata": {},
   "source": [
    "## Convolutional neural network\n",
    "Tutorial on how to train a convolutional neural network to predict protein subcellular localization.\n"
   ]
  },
  {
   "cell_type": "code",
   "execution_count": 1,
   "metadata": {
    "collapsed": false
   },
   "outputs": [],
   "source": [
    "# Import all the necessary modules\n",
    "import os\n",
    "os.environ[\"THEANO_FLAGS\"] = \"mode=FAST_RUN,optimizer=None,device=cpu,floatX=float32\"\n",
    "import sys\n",
    "sys.path.insert(0,'..')\n",
    "import numpy as np\n",
    "import theano\n",
    "import theano.tensor as T\n",
    "import lasagne\n",
    "from confusionmatrix import ConfusionMatrix\n",
    "from utils import iterate_minibatches\n",
    "import matplotlib.pyplot as plt\n",
    "import time\n",
    "import itertools\n",
    "%matplotlib inline"
   ]
  },
  {
   "cell_type": "markdown",
   "metadata": {},
   "source": [
    "### Building the network\n",
    "The first thing that we have to do is to define the network architecture. Here we are going to use an input layer, two convolutional layers with max pooling, a dense layer and an output layer. These are the steps that we are going to follow:\n",
    "\n",
    "1.- Specify the hyperparameters of the network:"
   ]
  },
  {
   "cell_type": "code",
   "execution_count": 2,
   "metadata": {
    "collapsed": false
   },
   "outputs": [],
   "source": [
    "batch_size = 128\n",
    "seq_len = 400\n",
    "n_feat = 20\n",
    "n_hid = 30\n",
    "n_class = 10\n",
    "lr = 0.0025\n",
    "n_filt = 10\n",
    "drop_prob = 0.5"
   ]
  },
  {
   "cell_type": "markdown",
   "metadata": {},
   "source": [
    "2.- Define the input variables to our network:"
   ]
  },
  {
   "cell_type": "code",
   "execution_count": 3,
   "metadata": {
    "collapsed": false
   },
   "outputs": [],
   "source": [
    "# We use ftensor3 because the protein data is a 3D-matrix in float32 \n",
    "input_var = T.ftensor3('inputs')\n",
    "# ivector because the labels is a single dimensional vector of integers\n",
    "target_var = T.ivector('targets')\n",
    "\n",
    "# Dummy data to check the size of the layers during the building of the network\n",
    "X = np.random.randint(0,10,size=(batch_size,seq_len,n_feat)).astype('float32')\n",
    "Xmask = np.ones((batch_size,seq_len)).astype('float32')"
   ]
  },
  {
   "cell_type": "markdown",
   "metadata": {},
   "source": [
    "3.- Define the layers of the network:"
   ]
  },
  {
   "cell_type": "code",
   "execution_count": 4,
   "metadata": {
    "collapsed": false
   },
   "outputs": [
    {
     "name": "stdout",
     "output_type": "stream",
     "text": [
      "Input layer: (128, 400, 20)\n",
      "DimshuffleLayer layer: (128, 20, 400)\n",
      "Convolutional layer size 3: (128, 10, 400)\n",
      "Convolutional layer size 5: (128, 10, 400)\n",
      "Concatenated convolutional layers: (128, 20, 400)\n",
      "Final convolutional layer: (128, 20, 400)\n",
      "Final max pool layer: (128, 20, 80)\n",
      "Dense layer: (128, 30)\n",
      "Output layer: (128, 10)\n"
     ]
    }
   ],
   "source": [
    "# Input layer, holds the shape of the data\n",
    "l_in = lasagne.layers.InputLayer(shape=(batch_size, seq_len, n_feat), input_var=input_var, name='Input')\n",
    "print('Input layer: {}'.format(\n",
    "    lasagne.layers.get_output(l_in, inputs={l_in: input_var}).eval({input_var: X}).shape))\n",
    "\n",
    "# Shuffle shape to be properly read by the CNN layer\n",
    "l_shu = lasagne.layers.DimshuffleLayer(l_in, (0,2,1))\n",
    "\n",
    "print('DimshuffleLayer layer: {}'.format(\n",
    "    lasagne.layers.get_output(l_shu, inputs={l_in: input_var}).eval({input_var: X}).shape))\n",
    "\n",
    "# Convolutional layers with different filter size\n",
    "l_conv_a = lasagne.layers.Conv1DLayer(l_shu, num_filters=n_filt, pad='same', stride=1, \n",
    "                                      filter_size=3, nonlinearity=lasagne.nonlinearities.rectify)\n",
    "print('Convolutional layer size 3: {}'.format(\n",
    "    lasagne.layers.get_output(l_conv_a, inputs={l_in: input_var}).eval({input_var: X}).shape))\n",
    "\n",
    "l_conv_b = lasagne.layers.Conv1DLayer(l_shu, num_filters=n_filt, pad='same', stride=1, \n",
    "                                      filter_size=5, nonlinearity=lasagne.nonlinearities.rectify)\n",
    "print('Convolutional layer size 5: {}'.format(\n",
    "    lasagne.layers.get_output(l_conv_b, inputs={l_in: input_var}).eval({input_var: X}).shape))\n",
    "\n",
    "# The output is concatenated\n",
    "l_conc = lasagne.layers.ConcatLayer([l_conv_a, l_conv_b], axis=1)\n",
    "print('Concatenated convolutional layers: {}'.format(\n",
    "    lasagne.layers.get_output(l_conc, inputs={l_in: input_var}).eval({input_var: X}).shape))\n",
    "\n",
    "# Second CNN layer\n",
    "l_conv_final = lasagne.layers.Conv1DLayer(l_conc, num_filters=n_filt*2, pad='same', \n",
    "                                          stride=1, filter_size=3, \n",
    "                                          nonlinearity=lasagne.nonlinearities.rectify)\n",
    "print('Final convolutional layer: {}'.format(\n",
    "    lasagne.layers.get_output(l_conv_final, inputs={l_in: input_var}).eval({input_var: X}).shape))\n",
    "\n",
    "# Max pooling is performed to downsample the input and reduce its dimensionality\n",
    "final_max_pool = lasagne.layers.MaxPool1DLayer(l_conv_final, 5)\n",
    "print('Max pool layer: {}'.format(\n",
    "    lasagne.layers.get_output(final_max_pool, inputs={l_in: input_var}).eval({input_var: X}).shape))\n",
    "\n",
    "# Dense layer with ReLu activation function\n",
    "l_dense = lasagne.layers.DenseLayer(final_max_pool, num_units=n_hid, name=\"Dense\",\n",
    "                                    nonlinearity=lasagne.nonlinearities.rectify)\n",
    "print('Dense layer: {}'.format(\n",
    "    lasagne.layers.get_output(l_dense, inputs={l_in: input_var}).eval({input_var: X}).shape))\n",
    "\n",
    "# Output layer with a Softmax activation function\n",
    "l_out = lasagne.layers.DenseLayer(lasagne.layers.dropout(l_dense, p=drop_prob), num_units=n_class, name=\"Softmax\", \n",
    "                                  nonlinearity=lasagne.nonlinearities.softmax)\n",
    "print('Output layer: {}'.format(\n",
    "    lasagne.layers.get_output(l_out, inputs={l_in: input_var}).eval({input_var: X}).shape))"
   ]
  },
  {
   "cell_type": "markdown",
   "metadata": {},
   "source": [
    "4.- Calculate the prediction and network loss for the training set and update the network weights:"
   ]
  },
  {
   "cell_type": "code",
   "execution_count": 5,
   "metadata": {
    "collapsed": false
   },
   "outputs": [],
   "source": [
    "# Get output training, deterministic=False is used for training\n",
    "prediction = lasagne.layers.get_output(l_out, inputs={l_in: input_var}, deterministic=False)\n",
    "\n",
    "# Calculate the categorical cross entropy between the labels and the prediction\n",
    "t_loss = T.nnet.categorical_crossentropy(prediction, target_var)\n",
    "\n",
    "# Training loss\n",
    "loss = T.mean(t_loss)\n",
    "\n",
    "# Parameters\n",
    "params = lasagne.layers.get_all_params([l_out], trainable=True)\n",
    "\n",
    "# Get the network gradients and perform total norm constraint normalization\n",
    "all_grads = lasagne.updates.total_norm_constraint(T.grad(loss, params),3)\n",
    "\n",
    "# Update parameters using ADAM \n",
    "updates = lasagne.updates.adam(all_grads, params, learning_rate=lr)"
   ]
  },
  {
   "cell_type": "markdown",
   "metadata": {},
   "source": [
    "5.- Calculate the prediction and network loss for the validation set:"
   ]
  },
  {
   "cell_type": "code",
   "execution_count": 6,
   "metadata": {
    "collapsed": false
   },
   "outputs": [],
   "source": [
    "# Get output validation, deterministic=True is only use for validation\n",
    "val_prediction = lasagne.layers.get_output(l_out, inputs={l_in: input_var}, deterministic=True)\n",
    "\n",
    "# Calculate the categorical cross entropy between the labels and the prediction\n",
    "t_val_loss = lasagne.objectives.categorical_crossentropy(val_prediction, target_var)\n",
    "\n",
    "# Validation loss \n",
    "val_loss = T.mean(t_val_loss)"
   ]
  },
  {
   "cell_type": "markdown",
   "metadata": {},
   "source": [
    "6.- Build theano functions: "
   ]
  },
  {
   "cell_type": "code",
   "execution_count": 7,
   "metadata": {
    "collapsed": false
   },
   "outputs": [],
   "source": [
    "# Build functions\n",
    "train_fn = theano.function([input_var, target_var], [loss, prediction], updates=updates)\n",
    "val_fn = theano.function([input_var, target_var], [val_loss, val_prediction])"
   ]
  },
  {
   "cell_type": "markdown",
   "metadata": {},
   "source": [
    "### Load dataset\n",
    "Once that the network is built, the next step is to load the training and the validation set"
   ]
  },
  {
   "cell_type": "code",
   "execution_count": 8,
   "metadata": {
    "collapsed": false
   },
   "outputs": [
    {
     "name": "stdout",
     "output_type": "stream",
     "text": [
      "(2423, 400, 20)\n"
     ]
    }
   ],
   "source": [
    "# Load the encoded protein sequences, labels and masks\n",
    "# The masks are not needed for the FFN or CNN models\n",
    "train = np.load('data/reduced_train.npz')\n",
    "X_train = train['X_train']\n",
    "y_train = train['y_train']\n",
    "mask_train = train['mask_train']\n",
    "print(X_train.shape)"
   ]
  },
  {
   "cell_type": "code",
   "execution_count": 9,
   "metadata": {
    "collapsed": false
   },
   "outputs": [
    {
     "name": "stdout",
     "output_type": "stream",
     "text": [
      "(635, 400, 20)\n"
     ]
    }
   ],
   "source": [
    "validation = np.load('data/reduced_val.npz')\n",
    "X_val = validation['X_val']\n",
    "y_val = validation['y_val']\n",
    "mask_val = validation['mask_val']\n",
    "print(X_val.shape)"
   ]
  },
  {
   "cell_type": "markdown",
   "metadata": {},
   "source": [
    "### Training\n",
    "Once that the data is ready and the network compiled we can start with the training of the model.\n",
    "Here we define the number of epochs that we want to perform "
   ]
  },
  {
   "cell_type": "code",
   "execution_count": 10,
   "metadata": {
    "collapsed": false
   },
   "outputs": [
    {
     "name": "stdout",
     "output_type": "stream",
     "text": [
      "Epoch 1 of 80 time elapsed 2.737s\n",
      "  training loss:\t\t2.143875\n",
      "  validation loss:\t\t1.974160\n",
      "  training accuracy:\t\t21.71 %\n",
      "  validation accuracy:\t\t29.84 %\n",
      "Epoch 2 of 80 time elapsed 5.094s\n",
      "  training loss:\t\t1.994283\n",
      "  validation loss:\t\t1.888495\n",
      "  training accuracy:\t\t30.10 %\n",
      "  validation accuracy:\t\t34.84 %\n",
      "Epoch 3 of 80 time elapsed 7.632s\n",
      "  training loss:\t\t1.888262\n",
      "  validation loss:\t\t1.750514\n",
      "  training accuracy:\t\t34.42 %\n",
      "  validation accuracy:\t\t40.16 %\n",
      "Epoch 4 of 80 time elapsed 10.360s\n",
      "  training loss:\t\t1.717869\n",
      "  validation loss:\t\t1.563852\n",
      "  training accuracy:\t\t41.41 %\n",
      "  validation accuracy:\t\t49.22 %\n",
      "Epoch 5 of 80 time elapsed 12.122s\n",
      "  training loss:\t\t1.550515\n",
      "  validation loss:\t\t1.369192\n",
      "  training accuracy:\t\t48.93 %\n",
      "  validation accuracy:\t\t58.75 %\n",
      "Epoch 6 of 80 time elapsed 13.901s\n",
      "  training loss:\t\t1.363479\n",
      "  validation loss:\t\t1.222367\n",
      "  training accuracy:\t\t54.11 %\n",
      "  validation accuracy:\t\t66.72 %\n",
      "Epoch 7 of 80 time elapsed 15.678s\n",
      "  training loss:\t\t1.286129\n",
      "  validation loss:\t\t1.142994\n",
      "  training accuracy:\t\t55.92 %\n",
      "  validation accuracy:\t\t67.50 %\n",
      "Epoch 8 of 80 time elapsed 17.670s\n",
      "  training loss:\t\t1.186357\n",
      "  validation loss:\t\t1.083477\n",
      "  training accuracy:\t\t60.61 %\n",
      "  validation accuracy:\t\t67.34 %\n",
      "Epoch 9 of 80 time elapsed 19.440s\n",
      "  training loss:\t\t1.118458\n",
      "  validation loss:\t\t0.977686\n",
      "  training accuracy:\t\t61.31 %\n",
      "  validation accuracy:\t\t70.16 %\n",
      "Epoch 10 of 80 time elapsed 21.263s\n",
      "  training loss:\t\t1.075366\n",
      "  validation loss:\t\t0.967645\n",
      "  training accuracy:\t\t62.62 %\n",
      "  validation accuracy:\t\t71.56 %\n",
      "Epoch 11 of 80 time elapsed 23.257s\n",
      "  training loss:\t\t1.013794\n",
      "  validation loss:\t\t0.893697\n",
      "  training accuracy:\t\t64.51 %\n",
      "  validation accuracy:\t\t72.50 %\n",
      "Epoch 12 of 80 time elapsed 25.644s\n",
      "  training loss:\t\t0.990296\n",
      "  validation loss:\t\t0.850944\n",
      "  training accuracy:\t\t65.17 %\n",
      "  validation accuracy:\t\t73.59 %\n",
      "Epoch 13 of 80 time elapsed 27.602s\n",
      "  training loss:\t\t0.927670\n",
      "  validation loss:\t\t0.841530\n",
      "  training accuracy:\t\t66.74 %\n",
      "  validation accuracy:\t\t72.66 %\n",
      "Epoch 14 of 80 time elapsed 29.476s\n",
      "  training loss:\t\t0.907421\n",
      "  validation loss:\t\t0.807145\n",
      "  training accuracy:\t\t66.82 %\n",
      "  validation accuracy:\t\t74.38 %\n",
      "Epoch 15 of 80 time elapsed 31.692s\n",
      "  training loss:\t\t0.841751\n",
      "  validation loss:\t\t0.787659\n",
      "  training accuracy:\t\t69.98 %\n",
      "  validation accuracy:\t\t74.22 %\n",
      "Epoch 16 of 80 time elapsed 33.914s\n",
      "  training loss:\t\t0.837218\n",
      "  validation loss:\t\t0.792206\n",
      "  training accuracy:\t\t68.54 %\n",
      "  validation accuracy:\t\t74.38 %\n",
      "Epoch 17 of 80 time elapsed 36.001s\n",
      "  training loss:\t\t0.796217\n",
      "  validation loss:\t\t0.752985\n",
      "  training accuracy:\t\t70.89 %\n",
      "  validation accuracy:\t\t75.16 %\n",
      "Epoch 18 of 80 time elapsed 37.844s\n",
      "  training loss:\t\t0.792815\n",
      "  validation loss:\t\t0.731923\n",
      "  training accuracy:\t\t70.68 %\n",
      "  validation accuracy:\t\t74.69 %\n",
      "Epoch 19 of 80 time elapsed 39.904s\n",
      "  training loss:\t\t0.758300\n",
      "  validation loss:\t\t0.729886\n",
      "  training accuracy:\t\t70.68 %\n",
      "  validation accuracy:\t\t76.09 %\n",
      "Epoch 20 of 80 time elapsed 41.687s\n",
      "  training loss:\t\t0.767264\n",
      "  validation loss:\t\t0.727392\n",
      "  training accuracy:\t\t70.81 %\n",
      "  validation accuracy:\t\t75.62 %\n",
      "Epoch 21 of 80 time elapsed 43.374s\n",
      "  training loss:\t\t0.735753\n",
      "  validation loss:\t\t0.736207\n",
      "  training accuracy:\t\t70.60 %\n",
      "  validation accuracy:\t\t76.09 %\n",
      "Epoch 22 of 80 time elapsed 45.064s\n",
      "  training loss:\t\t0.722486\n",
      "  validation loss:\t\t0.729975\n",
      "  training accuracy:\t\t72.08 %\n",
      "  validation accuracy:\t\t77.03 %\n",
      "Epoch 23 of 80 time elapsed 47.229s\n",
      "  training loss:\t\t0.684312\n",
      "  validation loss:\t\t0.724368\n",
      "  training accuracy:\t\t72.78 %\n",
      "  validation accuracy:\t\t77.19 %\n",
      "Epoch 24 of 80 time elapsed 49.269s\n",
      "  training loss:\t\t0.654248\n",
      "  validation loss:\t\t0.726558\n",
      "  training accuracy:\t\t74.01 %\n",
      "  validation accuracy:\t\t75.78 %\n",
      "Epoch 25 of 80 time elapsed 50.969s\n",
      "  training loss:\t\t0.645080\n",
      "  validation loss:\t\t0.729454\n",
      "  training accuracy:\t\t74.14 %\n",
      "  validation accuracy:\t\t76.56 %\n",
      "Epoch 26 of 80 time elapsed 52.661s\n",
      "  training loss:\t\t0.636024\n",
      "  validation loss:\t\t0.748639\n",
      "  training accuracy:\t\t74.05 %\n",
      "  validation accuracy:\t\t77.66 %\n",
      "Epoch 27 of 80 time elapsed 54.362s\n",
      "  training loss:\t\t0.628844\n",
      "  validation loss:\t\t0.725967\n",
      "  training accuracy:\t\t74.34 %\n",
      "  validation accuracy:\t\t78.44 %\n",
      "Epoch 28 of 80 time elapsed 56.309s\n",
      "  training loss:\t\t0.606186\n",
      "  validation loss:\t\t0.711861\n",
      "  training accuracy:\t\t75.53 %\n",
      "  validation accuracy:\t\t78.44 %\n",
      "Epoch 29 of 80 time elapsed 58.282s\n",
      "  training loss:\t\t0.584276\n",
      "  validation loss:\t\t0.763566\n",
      "  training accuracy:\t\t76.11 %\n",
      "  validation accuracy:\t\t78.12 %\n",
      "Epoch 30 of 80 time elapsed 60.058s\n",
      "  training loss:\t\t0.574085\n",
      "  validation loss:\t\t0.732832\n",
      "  training accuracy:\t\t76.11 %\n",
      "  validation accuracy:\t\t78.59 %\n",
      "Epoch 31 of 80 time elapsed 61.864s\n",
      "  training loss:\t\t0.580036\n",
      "  validation loss:\t\t0.747884\n",
      "  training accuracy:\t\t76.19 %\n",
      "  validation accuracy:\t\t77.50 %\n",
      "Epoch 32 of 80 time elapsed 63.767s\n",
      "  training loss:\t\t0.558126\n",
      "  validation loss:\t\t0.767443\n",
      "  training accuracy:\t\t76.52 %\n",
      "  validation accuracy:\t\t78.91 %\n",
      "Epoch 33 of 80 time elapsed 65.740s\n",
      "  training loss:\t\t0.571885\n",
      "  validation loss:\t\t0.748526\n",
      "  training accuracy:\t\t76.48 %\n",
      "  validation accuracy:\t\t78.12 %\n",
      "Epoch 34 of 80 time elapsed 67.446s\n",
      "  training loss:\t\t0.527101\n",
      "  validation loss:\t\t0.743367\n",
      "  training accuracy:\t\t77.71 %\n",
      "  validation accuracy:\t\t79.84 %\n",
      "Epoch 35 of 80 time elapsed 69.153s\n",
      "  training loss:\t\t0.518533\n",
      "  validation loss:\t\t0.748425\n",
      "  training accuracy:\t\t78.87 %\n",
      "  validation accuracy:\t\t81.72 %\n",
      "Epoch 36 of 80 time elapsed 70.882s\n",
      "  training loss:\t\t0.521540\n",
      "  validation loss:\t\t0.809446\n",
      "  training accuracy:\t\t78.58 %\n",
      "  validation accuracy:\t\t79.38 %\n",
      "Epoch 37 of 80 time elapsed 72.601s\n",
      "  training loss:\t\t0.530301\n",
      "  validation loss:\t\t0.818905\n",
      "  training accuracy:\t\t78.37 %\n",
      "  validation accuracy:\t\t80.94 %\n",
      "Epoch 38 of 80 time elapsed 74.331s\n",
      "  training loss:\t\t0.492963\n",
      "  validation loss:\t\t0.767090\n",
      "  training accuracy:\t\t79.69 %\n",
      "  validation accuracy:\t\t80.47 %\n",
      "Epoch 39 of 80 time elapsed 76.074s\n",
      "  training loss:\t\t0.461024\n",
      "  validation loss:\t\t0.829002\n",
      "  training accuracy:\t\t80.14 %\n",
      "  validation accuracy:\t\t80.78 %\n",
      "Epoch 40 of 80 time elapsed 77.811s\n",
      "  training loss:\t\t0.491934\n",
      "  validation loss:\t\t0.783026\n",
      "  training accuracy:\t\t79.56 %\n",
      "  validation accuracy:\t\t82.03 %\n",
      "Epoch 41 of 80 time elapsed 79.544s\n",
      "  training loss:\t\t0.454656\n",
      "  validation loss:\t\t0.803371\n",
      "  training accuracy:\t\t80.55 %\n",
      "  validation accuracy:\t\t80.78 %\n",
      "Epoch 42 of 80 time elapsed 81.289s\n",
      "  training loss:\t\t0.430194\n",
      "  validation loss:\t\t0.836164\n",
      "  training accuracy:\t\t82.48 %\n",
      "  validation accuracy:\t\t80.62 %\n",
      "Epoch 43 of 80 time elapsed 83.024s\n",
      "  training loss:\t\t0.440897\n",
      "  validation loss:\t\t0.905834\n",
      "  training accuracy:\t\t81.37 %\n",
      "  validation accuracy:\t\t79.53 %\n",
      "Epoch 44 of 80 time elapsed 84.776s\n",
      "  training loss:\t\t0.412019\n",
      "  validation loss:\t\t0.853931\n",
      "  training accuracy:\t\t82.57 %\n",
      "  validation accuracy:\t\t81.09 %\n",
      "Epoch 45 of 80 time elapsed 86.495s\n",
      "  training loss:\t\t0.434522\n",
      "  validation loss:\t\t0.870272\n",
      "  training accuracy:\t\t81.46 %\n",
      "  validation accuracy:\t\t81.88 %\n",
      "Epoch 46 of 80 time elapsed 88.213s\n",
      "  training loss:\t\t0.440023\n",
      "  validation loss:\t\t0.850589\n",
      "  training accuracy:\t\t81.09 %\n",
      "  validation accuracy:\t\t80.00 %\n",
      "Epoch 47 of 80 time elapsed 89.935s\n",
      "  training loss:\t\t0.389817\n",
      "  validation loss:\t\t0.841705\n",
      "  training accuracy:\t\t83.72 %\n",
      "  validation accuracy:\t\t80.78 %\n",
      "Epoch 48 of 80 time elapsed 91.653s\n",
      "  training loss:\t\t0.383544\n",
      "  validation loss:\t\t0.941057\n",
      "  training accuracy:\t\t83.76 %\n",
      "  validation accuracy:\t\t81.25 %\n",
      "Epoch 49 of 80 time elapsed 93.371s\n",
      "  training loss:\t\t0.404868\n",
      "  validation loss:\t\t0.881543\n",
      "  training accuracy:\t\t83.02 %\n",
      "  validation accuracy:\t\t81.72 %\n",
      "Epoch 50 of 80 time elapsed 95.094s\n",
      "  training loss:\t\t0.375055\n",
      "  validation loss:\t\t0.905357\n",
      "  training accuracy:\t\t84.62 %\n",
      "  validation accuracy:\t\t81.56 %\n",
      "Epoch 51 of 80 time elapsed 96.806s\n",
      "  training loss:\t\t0.381056\n",
      "  validation loss:\t\t0.912396\n",
      "  training accuracy:\t\t83.88 %\n",
      "  validation accuracy:\t\t82.50 %\n",
      "Epoch 52 of 80 time elapsed 98.597s\n",
      "  training loss:\t\t0.395058\n",
      "  validation loss:\t\t0.873037\n",
      "  training accuracy:\t\t83.35 %\n",
      "  validation accuracy:\t\t82.03 %\n",
      "Epoch 53 of 80 time elapsed 100.603s\n",
      "  training loss:\t\t0.407845\n",
      "  validation loss:\t\t0.856693\n",
      "  training accuracy:\t\t81.70 %\n",
      "  validation accuracy:\t\t82.03 %\n",
      "Epoch 54 of 80 time elapsed 102.566s\n",
      "  training loss:\t\t0.371751\n",
      "  validation loss:\t\t0.934208\n",
      "  training accuracy:\t\t84.13 %\n",
      "  validation accuracy:\t\t82.19 %\n",
      "Epoch 55 of 80 time elapsed 104.471s\n",
      "  training loss:\t\t0.367710\n",
      "  validation loss:\t\t0.959202\n",
      "  training accuracy:\t\t84.09 %\n",
      "  validation accuracy:\t\t82.66 %\n",
      "Epoch 56 of 80 time elapsed 106.477s\n",
      "  training loss:\t\t0.367305\n",
      "  validation loss:\t\t0.903137\n",
      "  training accuracy:\t\t83.84 %\n",
      "  validation accuracy:\t\t80.94 %\n",
      "Epoch 57 of 80 time elapsed 108.383s\n",
      "  training loss:\t\t0.354351\n",
      "  validation loss:\t\t1.004953\n",
      "  training accuracy:\t\t83.92 %\n",
      "  validation accuracy:\t\t80.78 %\n",
      "Epoch 58 of 80 time elapsed 110.312s\n",
      "  training loss:\t\t0.351139\n",
      "  validation loss:\t\t0.892682\n",
      "  training accuracy:\t\t85.32 %\n",
      "  validation accuracy:\t\t81.88 %\n",
      "Epoch 59 of 80 time elapsed 112.252s\n",
      "  training loss:\t\t0.372980\n",
      "  validation loss:\t\t0.958549\n",
      "  training accuracy:\t\t84.17 %\n",
      "  validation accuracy:\t\t82.66 %\n",
      "Epoch 60 of 80 time elapsed 114.248s\n",
      "  training loss:\t\t0.348411\n",
      "  validation loss:\t\t0.903453\n",
      "  training accuracy:\t\t84.91 %\n",
      "  validation accuracy:\t\t81.72 %\n",
      "Epoch 61 of 80 time elapsed 116.155s\n",
      "  training loss:\t\t0.361235\n",
      "  validation loss:\t\t0.950520\n",
      "  training accuracy:\t\t84.21 %\n",
      "  validation accuracy:\t\t81.88 %\n",
      "Epoch 62 of 80 time elapsed 118.271s\n",
      "  training loss:\t\t0.339186\n",
      "  validation loss:\t\t1.004408\n",
      "  training accuracy:\t\t85.32 %\n",
      "  validation accuracy:\t\t81.56 %\n",
      "Epoch 63 of 80 time elapsed 120.169s\n",
      "  training loss:\t\t0.333286\n",
      "  validation loss:\t\t1.009766\n",
      "  training accuracy:\t\t86.43 %\n",
      "  validation accuracy:\t\t81.25 %\n",
      "Epoch 64 of 80 time elapsed 122.129s\n",
      "  training loss:\t\t0.332604\n",
      "  validation loss:\t\t0.979457\n",
      "  training accuracy:\t\t85.98 %\n",
      "  validation accuracy:\t\t82.97 %\n",
      "Epoch 65 of 80 time elapsed 124.111s\n",
      "  training loss:\t\t0.337465\n",
      "  validation loss:\t\t1.063238\n",
      "  training accuracy:\t\t85.73 %\n",
      "  validation accuracy:\t\t83.12 %\n",
      "Epoch 66 of 80 time elapsed 125.986s\n",
      "  training loss:\t\t0.329280\n",
      "  validation loss:\t\t0.998134\n",
      "  training accuracy:\t\t85.90 %\n",
      "  validation accuracy:\t\t80.78 %\n",
      "Epoch 67 of 80 time elapsed 127.757s\n",
      "  training loss:\t\t0.347367\n",
      "  validation loss:\t\t1.004568\n",
      "  training accuracy:\t\t84.66 %\n",
      "  validation accuracy:\t\t82.19 %\n",
      "Epoch 68 of 80 time elapsed 129.506s\n",
      "  training loss:\t\t0.331375\n",
      "  validation loss:\t\t1.088719\n",
      "  training accuracy:\t\t86.27 %\n",
      "  validation accuracy:\t\t82.19 %\n",
      "Epoch 69 of 80 time elapsed 131.327s\n",
      "  training loss:\t\t0.328786\n",
      "  validation loss:\t\t1.061946\n",
      "  training accuracy:\t\t85.36 %\n",
      "  validation accuracy:\t\t81.56 %\n",
      "Epoch 70 of 80 time elapsed 133.326s\n",
      "  training loss:\t\t0.319111\n",
      "  validation loss:\t\t1.057594\n",
      "  training accuracy:\t\t86.02 %\n",
      "  validation accuracy:\t\t82.50 %\n",
      "Epoch 71 of 80 time elapsed 135.179s\n",
      "  training loss:\t\t0.334524\n",
      "  validation loss:\t\t1.054009\n",
      "  training accuracy:\t\t85.07 %\n",
      "  validation accuracy:\t\t81.88 %\n",
      "Epoch 72 of 80 time elapsed 137.218s\n",
      "  training loss:\t\t0.317473\n",
      "  validation loss:\t\t1.099902\n",
      "  training accuracy:\t\t86.39 %\n",
      "  validation accuracy:\t\t82.19 %\n",
      "Epoch 73 of 80 time elapsed 139.236s\n",
      "  training loss:\t\t0.318518\n",
      "  validation loss:\t\t1.031948\n",
      "  training accuracy:\t\t86.31 %\n",
      "  validation accuracy:\t\t82.03 %\n",
      "Epoch 74 of 80 time elapsed 141.073s\n",
      "  training loss:\t\t0.327583\n",
      "  validation loss:\t\t1.115477\n",
      "  training accuracy:\t\t85.86 %\n",
      "  validation accuracy:\t\t81.56 %\n",
      "Epoch 75 of 80 time elapsed 142.844s\n",
      "  training loss:\t\t0.329498\n",
      "  validation loss:\t\t1.127070\n",
      "  training accuracy:\t\t84.91 %\n",
      "  validation accuracy:\t\t82.34 %\n",
      "Epoch 76 of 80 time elapsed 144.718s\n",
      "  training loss:\t\t0.347947\n",
      "  validation loss:\t\t1.162104\n",
      "  training accuracy:\t\t84.42 %\n",
      "  validation accuracy:\t\t79.53 %\n",
      "Epoch 77 of 80 time elapsed 146.542s\n",
      "  training loss:\t\t0.317609\n",
      "  validation loss:\t\t1.135417\n",
      "  training accuracy:\t\t86.43 %\n",
      "  validation accuracy:\t\t81.72 %\n",
      "Epoch 78 of 80 time elapsed 148.335s\n",
      "  training loss:\t\t0.315220\n",
      "  validation loss:\t\t1.090182\n",
      "  training accuracy:\t\t86.14 %\n",
      "  validation accuracy:\t\t82.50 %\n",
      "Epoch 79 of 80 time elapsed 150.335s\n",
      "  training loss:\t\t0.294261\n",
      "  validation loss:\t\t1.139297\n",
      "  training accuracy:\t\t86.68 %\n",
      "  validation accuracy:\t\t82.03 %\n",
      "Epoch 80 of 80 time elapsed 152.169s\n",
      "  training loss:\t\t0.312373\n",
      "  validation loss:\t\t1.155346\n",
      "  training accuracy:\t\t86.14 %\n",
      "  validation accuracy:\t\t82.34 %\n"
     ]
    }
   ],
   "source": [
    "# Number of epochs\n",
    "num_epochs = 80\n",
    "\n",
    "# Lists to save loss and accuracy of each epoch\n",
    "loss_training = []\n",
    "loss_validation = []\n",
    "acc_training = []\n",
    "acc_validation = []\n",
    "start_time = time.time()\n",
    "min_val_loss = float(\"inf\")\n",
    "\n",
    "# Start training \n",
    "for epoch in range(num_epochs):\n",
    "    \n",
    "    # Full pass training set\n",
    "    train_err = 0\n",
    "    train_batches = 0\n",
    "    confusion_train = ConfusionMatrix(n_class)\n",
    "\n",
    "    # Generate minibatches and train on each one of them\n",
    "    for batch in iterate_minibatches(X_train.astype(np.float32), y_train.astype(np.int32), \n",
    "                                     mask_train.astype(np.float32), batch_size, shuffle=True, sort_len=False):\n",
    "        # Inputs to the network\n",
    "        inputs, targets, in_masks = batch\n",
    "        # Calculate loss and prediction\n",
    "        tr_err, predict = train_fn(inputs, targets)\n",
    "        train_err += tr_err\n",
    "        train_batches += 1\n",
    "        # Get the predicted class, the one with the maximum likelihood\n",
    "        preds = np.argmax(predict, axis=-1)\n",
    "        confusion_train.batch_add(targets, preds)\n",
    "    \n",
    "    # Average loss and accuracy\n",
    "    train_loss = train_err / train_batches\n",
    "    train_accuracy = confusion_train.accuracy()\n",
    "    cf_train = confusion_train.ret_mat()\n",
    "\n",
    "    val_err = 0\n",
    "    val_batches = 0\n",
    "    confusion_valid = ConfusionMatrix(n_class)\n",
    "\n",
    "    # Generate minibatches and validate on each one of them, same procedure as before\n",
    "    for batch in iterate_minibatches(X_val.astype(np.float32), y_val.astype(np.int32), \n",
    "                                     mask_val.astype(np.float32), batch_size, shuffle=True, sort_len=False):\n",
    "        inputs, targets, in_masks = batch\n",
    "        err, predict_val = val_fn(inputs, targets)\n",
    "        val_err += err\n",
    "        val_batches += 1\n",
    "        preds = np.argmax(predict_val, axis=-1)\n",
    "        confusion_valid.batch_add(targets, preds)\n",
    "\n",
    "    val_loss = val_err / val_batches\n",
    "    val_accuracy = confusion_valid.accuracy()\n",
    "    cf_val = confusion_valid.ret_mat()\n",
    "    \n",
    "    loss_training.append(train_loss)\n",
    "    loss_validation.append(val_loss)\n",
    "    acc_training.append(train_accuracy)\n",
    "    acc_validation.append(val_accuracy)\n",
    "    \n",
    "    # Save the model parameters at the epoch with the lowest validation loss\n",
    "    if min_val_loss > val_loss:\n",
    "        min_val_loss = val_loss\n",
    "        np.savez('params/CNN_params.npz', *lasagne.layers.get_all_param_values(l_out))\n",
    "    \n",
    "    print(\"Epoch {} of {} time elapsed {:.3f}s\".format(epoch + 1, num_epochs, time.time() - start_time))\n",
    "    print(\"  training loss:\\t\\t{:.6f}\".format(train_loss))\n",
    "    print(\"  validation loss:\\t\\t{:.6f}\".format(val_loss))\n",
    "    print(\"  training accuracy:\\t\\t{:.2f} %\".format(train_accuracy * 100))\n",
    "    print(\"  validation accuracy:\\t\\t{:.2f} %\".format(val_accuracy * 100))"
   ]
  },
  {
   "cell_type": "code",
   "execution_count": 11,
   "metadata": {
    "collapsed": false
   },
   "outputs": [
    {
     "name": "stdout",
     "output_type": "stream",
     "text": [
      "Minimum validation loss: 0.711861\n"
     ]
    }
   ],
   "source": [
    "print(\"Minimum validation loss: {:.6f}\".format(min_val_loss))"
   ]
  },
  {
   "cell_type": "markdown",
   "metadata": {},
   "source": [
    "### Model loss and accuracy\n",
    "Here we plot the loss and the accuracy for the training and validation set at each epoch."
   ]
  },
  {
   "cell_type": "code",
   "execution_count": 12,
   "metadata": {
    "collapsed": false,
    "scrolled": true
   },
   "outputs": [
    {
     "data": {
      "image/png": "[encoded data removed]",
      "text/plain": [
       "<matplotlib.figure.Figure at 0x1118ff240>"
      ]
     },
     "metadata": {},
     "output_type": "display_data"
    }
   ],
   "source": [
    "x_axis = range(num_epochs)\n",
    "plt.figure(figsize=(8,6))\n",
    "plt.plot(x_axis,loss_training)\n",
    "plt.plot(x_axis,loss_validation)\n",
    "plt.xlabel('Epoch')\n",
    "plt.ylabel('Error')\n",
    "plt.legend(('Training','Validation'));"
   ]
  },
  {
   "cell_type": "code",
   "execution_count": 13,
   "metadata": {
    "collapsed": false
   },
   "outputs": [
    {
     "data": {
      "image/png": "[encoded data removed]",
      "text/plain": [
       "<matplotlib.figure.Figure at 0x1176b1588>"
      ]
     },
     "metadata": {},
     "output_type": "display_data"
    }
   ],
   "source": [
    "plt.figure(figsize=(8,6))\n",
    "plt.plot(x_axis,acc_training)\n",
    "plt.plot(x_axis,acc_validation)\n",
    "plt.xlabel('Epoch')\n",
    "plt.ylabel('Accuracy')\n",
    "plt.legend(('Training','Validation'));"
   ]
  },
  {
   "cell_type": "markdown",
   "metadata": {},
   "source": [
    "### Confusion matrix\n",
    "The confusion matrix allows us to visualize how well is predicted each class and which are the most common misclassifications."
   ]
  },
  {
   "cell_type": "code",
   "execution_count": 14,
   "metadata": {
    "collapsed": false
   },
   "outputs": [
    {
     "data": {
      "image/png": "[encoded data removed]",
      "text/plain": [
       "<matplotlib.figure.Figure at 0x10b471f28>"
      ]
     },
     "metadata": {},
     "output_type": "display_data"
    }
   ],
   "source": [
    "# Plot confusion matrix \n",
    "# Code based on http://scikit-learn.org/stable/auto_examples/model_selection/plot_confusion_matrix.html\n",
    "\n",
    "plt.figure(figsize=(8,8))\n",
    "cmap=plt.cm.Blues   \n",
    "plt.imshow(cf_val, interpolation='nearest', cmap=cmap)\n",
    "plt.title('Confusion matrix validation set')\n",
    "plt.colorbar()\n",
    "tick_marks = np.arange(n_class)\n",
    "classes = ['Nucleus','Cytoplasm','Extracellular','Mitochondrion','Cell membrane','ER',\n",
    "           'Chloroplast','Golgi apparatus','Lysosome','Vacuole']\n",
    "\n",
    "plt.xticks(tick_marks, classes, rotation=60)\n",
    "plt.yticks(tick_marks, classes)\n",
    "\n",
    "thresh = cf_val.max() / 2.\n",
    "for i, j in itertools.product(range(cf_val.shape[0]), range(cf_val.shape[1])):\n",
    "    plt.text(j, i, cf_val[i, j],\n",
    "             horizontalalignment=\"center\",\n",
    "             color=\"white\" if cf_val[i, j] > thresh else \"black\")\n",
    "\n",
    "plt.tight_layout()\n",
    "plt.ylabel('True location')\n",
    "plt.xlabel('Predicted location');"
   ]
  },
  {
   "cell_type": "code",
   "execution_count": null,
   "metadata": {
    "collapsed": true
   },
   "outputs": [],
   "source": []
  }
 ],
 "metadata": {
  "kernelspec": {
   "display_name": "Python 3",
   "language": "python",
   "name": "python3"
  },
  "language_info": {
   "codemirror_mode": {
    "name": "ipython",
    "version": 3
   },
   "file_extension": ".py",
   "mimetype": "text/x-python",
   "name": "python",
   "nbconvert_exporter": "python",
   "pygments_lexer": "ipython3",
   "version": "3.6.0"
  }
 },
 "nbformat": 4,
 "nbformat_minor": 2
}
