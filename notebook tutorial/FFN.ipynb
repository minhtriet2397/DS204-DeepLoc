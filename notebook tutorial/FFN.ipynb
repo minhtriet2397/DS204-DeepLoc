{
 "cells": [
  {
   "cell_type": "markdown",
   "metadata": {},
   "source": [
    "## Feed-forward neural network\n",
    "This is a simple tutorial on how to train a feed-forward neural network to predict protein subcellular localization."
   ]
  },
  {
   "cell_type": "code",
   "execution_count": 1,
   "metadata": {
    "collapsed": true
   },
   "outputs": [],
   "source": [
    "# Import all the necessary modules\n",
    "import os\n",
    "os.environ[\"THEANO_FLAGS\"] = \"mode=FAST_RUN,optimizer=None,device=cpu,floatX=float32\"\n",
    "import sys\n",
    "sys.path.insert(0,'..')\n",
    "import numpy as np\n",
    "import theano\n",
    "import theano.tensor as T\n",
    "import lasagne\n",
    "from confusionmatrix import ConfusionMatrix\n",
    "from utils import iterate_minibatches\n",
    "import matplotlib.pyplot as plt\n",
    "import time\n",
    "import itertools\n",
    "%matplotlib inline"
   ]
  },
  {
   "cell_type": "markdown",
   "metadata": {},
   "source": [
    "### Building the network\n",
    "The first thing that we have to do is to define the network architecture. Here we are going to use an input layer, dense layer and output layer. These are the steps that we are going to follow:\n",
    "\n",
    "1.- Specify the hyperparameters of the network:"
   ]
  },
  {
   "cell_type": "code",
   "execution_count": 2,
   "metadata": {
    "collapsed": false
   },
   "outputs": [],
   "source": [
    "batch_size = 128\n",
    "seq_len = 400\n",
    "n_feat = 20\n",
    "n_hid = 30\n",
    "n_class = 10\n",
    "lr = 0.0025\n",
    "drop_prob = 0.5"
   ]
  },
  {
   "cell_type": "markdown",
   "metadata": {},
   "source": [
    "2.- Define the input variables to our network:"
   ]
  },
  {
   "cell_type": "code",
   "execution_count": 3,
   "metadata": {
    "collapsed": true
   },
   "outputs": [],
   "source": [
    "# We use ftensor3 because the protein data is a 3D-matrix in float32 \n",
    "input_var = T.ftensor3('inputs')\n",
    "# ivector because the labels is a single dimensional vector of integers\n",
    "target_var = T.ivector('targets')\n",
    "# Dummy data to check the size of the layers during the building of the network\n",
    "X = np.random.randint(0,10,size=(batch_size,seq_len,n_feat)).astype('float32')"
   ]
  },
  {
   "cell_type": "markdown",
   "metadata": {},
   "source": [
    "3.- Define the layers of the network:"
   ]
  },
  {
   "cell_type": "code",
   "execution_count": 4,
   "metadata": {
    "collapsed": false
   },
   "outputs": [
    {
     "name": "stdout",
     "output_type": "stream",
     "text": [
      "Input layer: (128, 400, 20)\n",
      "Dense layer: (128, 30)\n",
      "Output layer: (128, 10)\n"
     ]
    }
   ],
   "source": [
    "# Input layer, holds the shape of the data\n",
    "l_in = lasagne.layers.InputLayer(shape=(batch_size, seq_len, n_feat), input_var=input_var, name='Input')\n",
    "print('Input layer: {}'.format(\n",
    "    lasagne.layers.get_output(l_in, inputs={l_in: input_var}).eval({input_var: X}).shape))\n",
    "\n",
    "# Dense layer with ReLu activation function\n",
    "l_dense = lasagne.layers.DenseLayer(l_in, num_units=n_hid, name=\"Dense\",\n",
    "                                    nonlinearity=lasagne.nonlinearities.rectify)\n",
    "print('Dense layer: {}'.format(\n",
    "    lasagne.layers.get_output(l_dense, inputs={l_in: input_var}).eval({input_var: X}).shape))\n",
    "\n",
    "# Output layer with a Softmax activation function\n",
    "l_out = lasagne.layers.DenseLayer(lasagne.layers.dropout(l_dense, p=drop_prob), num_units=n_class, \n",
    "                                  name=\"Softmax\", nonlinearity=lasagne.nonlinearities.softmax)\n",
    "print('Output layer: {}'.format(\n",
    "    lasagne.layers.get_output(l_out, inputs={l_in: input_var}).eval({input_var: X}).shape))"
   ]
  },
  {
   "cell_type": "markdown",
   "metadata": {},
   "source": [
    "4.- Calculate the prediction and network loss for the training set and update the network weights:"
   ]
  },
  {
   "cell_type": "code",
   "execution_count": 5,
   "metadata": {
    "collapsed": false
   },
   "outputs": [],
   "source": [
    "# Get output training, deterministic=False is used for training\n",
    "prediction = lasagne.layers.get_output(l_out, inputs={l_in: input_var}, deterministic=False)\n",
    "\n",
    "# Calculate the categorical cross entropy between the labels and the prediction\n",
    "t_loss = T.nnet.categorical_crossentropy(prediction, target_var)\n",
    "\n",
    "# Training loss\n",
    "loss = T.mean(t_loss)\n",
    "\n",
    "# Parameters\n",
    "params = lasagne.layers.get_all_params([l_out], trainable=True)\n",
    "\n",
    "# Get the network gradients and perform total norm constraint normalization\n",
    "all_grads = lasagne.updates.total_norm_constraint(T.grad(loss, params),3)\n",
    "\n",
    "# Update parameters using ADAM \n",
    "updates = lasagne.updates.adam(all_grads, params, learning_rate=lr)"
   ]
  },
  {
   "cell_type": "markdown",
   "metadata": {},
   "source": [
    "5.- Calculate the prediction and network loss for the validation set:"
   ]
  },
  {
   "cell_type": "code",
   "execution_count": 6,
   "metadata": {
    "collapsed": false
   },
   "outputs": [],
   "source": [
    "# Get output validation, deterministic=True is only use for validation\n",
    "val_prediction = lasagne.layers.get_output(l_out, inputs={l_in: input_var}, deterministic=True)\n",
    "\n",
    "# Calculate the categorical cross entropy between the labels and the prediction\n",
    "t_val_loss = lasagne.objectives.categorical_crossentropy(val_prediction, target_var)\n",
    "\n",
    "# Validation loss \n",
    "val_loss = T.mean(t_val_loss)"
   ]
  },
  {
   "cell_type": "markdown",
   "metadata": {},
   "source": [
    "6.- Build theano functions: "
   ]
  },
  {
   "cell_type": "code",
   "execution_count": 7,
   "metadata": {
    "collapsed": false
   },
   "outputs": [],
   "source": [
    "# Build functions\n",
    "train_fn = theano.function([input_var, target_var], [loss, prediction], updates=updates)\n",
    "val_fn = theano.function([input_var, target_var], [val_loss, val_prediction])"
   ]
  },
  {
   "cell_type": "markdown",
   "metadata": {},
   "source": [
    "### Load dataset\n",
    "Once that the network is built, the next step is to load the training and the validation set"
   ]
  },
  {
   "cell_type": "code",
   "execution_count": 8,
   "metadata": {
    "collapsed": false
   },
   "outputs": [
    {
     "name": "stdout",
     "output_type": "stream",
     "text": [
      "(2423, 400, 20)\n"
     ]
    }
   ],
   "source": [
    "# Load the encoded protein sequences, labels and masks\n",
    "# The masks are not needed for the FFN or CNN models\n",
    "train = np.load('data/reduced_train.npz')\n",
    "X_train = train['X_train']\n",
    "y_train = train['y_train']\n",
    "mask_train = train['mask_train']\n",
    "print(X_train.shape)"
   ]
  },
  {
   "cell_type": "code",
   "execution_count": 9,
   "metadata": {
    "collapsed": false
   },
   "outputs": [
    {
     "name": "stdout",
     "output_type": "stream",
     "text": [
      "(635, 400, 20)\n"
     ]
    }
   ],
   "source": [
    "validation = np.load('data/reduced_val.npz')\n",
    "X_val = validation['X_val']\n",
    "y_val = validation['y_val']\n",
    "mask_val = validation['mask_val']\n",
    "print(X_val.shape)"
   ]
  },
  {
   "cell_type": "markdown",
   "metadata": {},
   "source": [
    "### Training\n",
    "Once that the data is ready and the network compiled we can start with the training of the model.\n",
    "Here we define the number of epochs that we want to perform "
   ]
  },
  {
   "cell_type": "code",
   "execution_count": 10,
   "metadata": {
    "collapsed": false
   },
   "outputs": [
    {
     "name": "stdout",
     "output_type": "stream",
     "text": [
      "Epoch 1 of 80 time elapsed 0.324s\n",
      "  training loss:\t\t2.107359\n",
      "  validation loss:\t\t1.859765\n",
      "  training accuracy:\t\t26.85 %\n",
      "  validation accuracy:\t\t36.72 %\n",
      "Epoch 2 of 80 time elapsed 0.647s\n",
      "  training loss:\t\t1.743450\n",
      "  validation loss:\t\t1.591770\n",
      "  training accuracy:\t\t40.95 %\n",
      "  validation accuracy:\t\t47.97 %\n",
      "Epoch 3 of 80 time elapsed 0.970s\n",
      "  training loss:\t\t1.472835\n",
      "  validation loss:\t\t1.461971\n",
      "  training accuracy:\t\t50.29 %\n",
      "  validation accuracy:\t\t56.09 %\n",
      "Epoch 4 of 80 time elapsed 1.190s\n",
      "  training loss:\t\t1.282473\n",
      "  validation loss:\t\t1.300663\n",
      "  training accuracy:\t\t56.83 %\n",
      "  validation accuracy:\t\t60.94 %\n",
      "Epoch 5 of 80 time elapsed 1.415s\n",
      "  training loss:\t\t1.134756\n",
      "  validation loss:\t\t1.199360\n",
      "  training accuracy:\t\t60.03 %\n",
      "  validation accuracy:\t\t61.56 %\n",
      "Epoch 6 of 80 time elapsed 1.642s\n",
      "  training loss:\t\t0.987879\n",
      "  validation loss:\t\t1.088289\n",
      "  training accuracy:\t\t66.00 %\n",
      "  validation accuracy:\t\t67.19 %\n",
      "Epoch 7 of 80 time elapsed 1.886s\n",
      "  training loss:\t\t0.900661\n",
      "  validation loss:\t\t1.047687\n",
      "  training accuracy:\t\t68.79 %\n",
      "  validation accuracy:\t\t65.62 %\n",
      "Epoch 8 of 80 time elapsed 2.126s\n",
      "  training loss:\t\t0.820768\n",
      "  validation loss:\t\t0.982008\n",
      "  training accuracy:\t\t70.64 %\n",
      "  validation accuracy:\t\t70.47 %\n",
      "Epoch 9 of 80 time elapsed 2.353s\n",
      "  training loss:\t\t0.743999\n",
      "  validation loss:\t\t0.969201\n",
      "  training accuracy:\t\t72.90 %\n",
      "  validation accuracy:\t\t70.31 %\n",
      "Epoch 10 of 80 time elapsed 2.603s\n",
      "  training loss:\t\t0.671169\n",
      "  validation loss:\t\t0.925915\n",
      "  training accuracy:\t\t76.07 %\n",
      "  validation accuracy:\t\t71.56 %\n",
      "Epoch 11 of 80 time elapsed 2.848s\n",
      "  training loss:\t\t0.615192\n",
      "  validation loss:\t\t0.884622\n",
      "  training accuracy:\t\t78.37 %\n",
      "  validation accuracy:\t\t73.28 %\n",
      "Epoch 12 of 80 time elapsed 3.075s\n",
      "  training loss:\t\t0.575456\n",
      "  validation loss:\t\t0.867527\n",
      "  training accuracy:\t\t78.74 %\n",
      "  validation accuracy:\t\t74.06 %\n",
      "Epoch 13 of 80 time elapsed 3.331s\n",
      "  training loss:\t\t0.512095\n",
      "  validation loss:\t\t0.864169\n",
      "  training accuracy:\t\t81.50 %\n",
      "  validation accuracy:\t\t73.75 %\n",
      "Epoch 14 of 80 time elapsed 3.569s\n",
      "  training loss:\t\t0.494531\n",
      "  validation loss:\t\t0.849973\n",
      "  training accuracy:\t\t82.03 %\n",
      "  validation accuracy:\t\t74.06 %\n",
      "Epoch 15 of 80 time elapsed 3.832s\n",
      "  training loss:\t\t0.466686\n",
      "  validation loss:\t\t0.862280\n",
      "  training accuracy:\t\t82.98 %\n",
      "  validation accuracy:\t\t72.81 %\n",
      "Epoch 16 of 80 time elapsed 4.029s\n",
      "  training loss:\t\t0.434729\n",
      "  validation loss:\t\t0.852806\n",
      "  training accuracy:\t\t83.72 %\n",
      "  validation accuracy:\t\t74.22 %\n",
      "Epoch 17 of 80 time elapsed 4.256s\n",
      "  training loss:\t\t0.418157\n",
      "  validation loss:\t\t0.851349\n",
      "  training accuracy:\t\t84.25 %\n",
      "  validation accuracy:\t\t74.22 %\n",
      "Epoch 18 of 80 time elapsed 4.495s\n",
      "  training loss:\t\t0.417498\n",
      "  validation loss:\t\t0.829231\n",
      "  training accuracy:\t\t84.29 %\n",
      "  validation accuracy:\t\t75.47 %\n",
      "Epoch 19 of 80 time elapsed 4.783s\n",
      "  training loss:\t\t0.395914\n",
      "  validation loss:\t\t0.869444\n",
      "  training accuracy:\t\t84.75 %\n",
      "  validation accuracy:\t\t73.75 %\n",
      "Epoch 20 of 80 time elapsed 4.984s\n",
      "  training loss:\t\t0.359312\n",
      "  validation loss:\t\t0.839163\n",
      "  training accuracy:\t\t86.55 %\n",
      "  validation accuracy:\t\t75.47 %\n",
      "Epoch 21 of 80 time elapsed 5.169s\n",
      "  training loss:\t\t0.362639\n",
      "  validation loss:\t\t0.859328\n",
      "  training accuracy:\t\t86.35 %\n",
      "  validation accuracy:\t\t74.84 %\n",
      "Epoch 22 of 80 time elapsed 5.363s\n",
      "  training loss:\t\t0.351706\n",
      "  validation loss:\t\t0.861067\n",
      "  training accuracy:\t\t86.68 %\n",
      "  validation accuracy:\t\t75.00 %\n",
      "Epoch 23 of 80 time elapsed 5.638s\n",
      "  training loss:\t\t0.343546\n",
      "  validation loss:\t\t0.863921\n",
      "  training accuracy:\t\t87.46 %\n",
      "  validation accuracy:\t\t75.78 %\n",
      "Epoch 24 of 80 time elapsed 5.845s\n",
      "  training loss:\t\t0.332753\n",
      "  validation loss:\t\t0.861443\n",
      "  training accuracy:\t\t87.62 %\n",
      "  validation accuracy:\t\t75.62 %\n",
      "Epoch 25 of 80 time elapsed 6.080s\n",
      "  training loss:\t\t0.315228\n",
      "  validation loss:\t\t0.904788\n",
      "  training accuracy:\t\t87.83 %\n",
      "  validation accuracy:\t\t72.66 %\n",
      "Epoch 26 of 80 time elapsed 6.345s\n",
      "  training loss:\t\t0.295694\n",
      "  validation loss:\t\t0.926737\n",
      "  training accuracy:\t\t89.14 %\n",
      "  validation accuracy:\t\t75.31 %\n",
      "Epoch 27 of 80 time elapsed 6.610s\n",
      "  training loss:\t\t0.289340\n",
      "  validation loss:\t\t0.885212\n",
      "  training accuracy:\t\t88.53 %\n",
      "  validation accuracy:\t\t74.84 %\n",
      "Epoch 28 of 80 time elapsed 6.891s\n",
      "  training loss:\t\t0.305048\n",
      "  validation loss:\t\t0.888011\n",
      "  training accuracy:\t\t87.83 %\n",
      "  validation accuracy:\t\t75.16 %\n",
      "Epoch 29 of 80 time elapsed 7.081s\n",
      "  training loss:\t\t0.283399\n",
      "  validation loss:\t\t0.863941\n",
      "  training accuracy:\t\t89.76 %\n",
      "  validation accuracy:\t\t75.94 %\n",
      "Epoch 30 of 80 time elapsed 7.363s\n",
      "  training loss:\t\t0.290155\n",
      "  validation loss:\t\t0.909824\n",
      "  training accuracy:\t\t88.28 %\n",
      "  validation accuracy:\t\t76.09 %\n",
      "Epoch 31 of 80 time elapsed 7.636s\n",
      "  training loss:\t\t0.257156\n",
      "  validation loss:\t\t0.963012\n",
      "  training accuracy:\t\t90.13 %\n",
      "  validation accuracy:\t\t73.59 %\n",
      "Epoch 32 of 80 time elapsed 7.901s\n",
      "  training loss:\t\t0.254546\n",
      "  validation loss:\t\t0.969289\n",
      "  training accuracy:\t\t90.58 %\n",
      "  validation accuracy:\t\t73.91 %\n",
      "Epoch 33 of 80 time elapsed 8.097s\n",
      "  training loss:\t\t0.268782\n",
      "  validation loss:\t\t0.937327\n",
      "  training accuracy:\t\t89.39 %\n",
      "  validation accuracy:\t\t75.31 %\n",
      "Epoch 34 of 80 time elapsed 8.326s\n",
      "  training loss:\t\t0.245839\n",
      "  validation loss:\t\t0.969967\n",
      "  training accuracy:\t\t90.83 %\n",
      "  validation accuracy:\t\t74.53 %\n",
      "Epoch 35 of 80 time elapsed 8.544s\n",
      "  training loss:\t\t0.242339\n",
      "  validation loss:\t\t1.002957\n",
      "  training accuracy:\t\t90.54 %\n",
      "  validation accuracy:\t\t73.75 %\n",
      "Epoch 36 of 80 time elapsed 8.759s\n",
      "  training loss:\t\t0.229800\n",
      "  validation loss:\t\t0.975329\n",
      "  training accuracy:\t\t91.04 %\n",
      "  validation accuracy:\t\t74.22 %\n",
      "Epoch 37 of 80 time elapsed 9.047s\n",
      "  training loss:\t\t0.232424\n",
      "  validation loss:\t\t0.981292\n",
      "  training accuracy:\t\t90.91 %\n",
      "  validation accuracy:\t\t75.47 %\n",
      "Epoch 38 of 80 time elapsed 9.400s\n",
      "  training loss:\t\t0.215324\n",
      "  validation loss:\t\t0.956630\n",
      "  training accuracy:\t\t90.87 %\n",
      "  validation accuracy:\t\t75.62 %\n",
      "Epoch 39 of 80 time elapsed 9.731s\n",
      "  training loss:\t\t0.221702\n",
      "  validation loss:\t\t1.013137\n",
      "  training accuracy:\t\t91.45 %\n",
      "  validation accuracy:\t\t75.00 %\n",
      "Epoch 40 of 80 time elapsed 10.152s\n",
      "  training loss:\t\t0.216461\n",
      "  validation loss:\t\t0.996233\n",
      "  training accuracy:\t\t91.57 %\n",
      "  validation accuracy:\t\t75.94 %\n",
      "Epoch 41 of 80 time elapsed 10.565s\n",
      "  training loss:\t\t0.232326\n",
      "  validation loss:\t\t1.015741\n",
      "  training accuracy:\t\t90.54 %\n",
      "  validation accuracy:\t\t75.47 %\n",
      "Epoch 42 of 80 time elapsed 10.913s\n",
      "  training loss:\t\t0.201155\n",
      "  validation loss:\t\t1.080081\n",
      "  training accuracy:\t\t92.19 %\n",
      "  validation accuracy:\t\t75.00 %\n",
      "Epoch 43 of 80 time elapsed 11.266s\n",
      "  training loss:\t\t0.201297\n",
      "  validation loss:\t\t1.054666\n",
      "  training accuracy:\t\t92.23 %\n",
      "  validation accuracy:\t\t75.31 %\n",
      "Epoch 44 of 80 time elapsed 11.608s\n",
      "  training loss:\t\t0.195273\n",
      "  validation loss:\t\t1.029481\n",
      "  training accuracy:\t\t92.15 %\n",
      "  validation accuracy:\t\t75.00 %\n",
      "Epoch 45 of 80 time elapsed 11.930s\n",
      "  training loss:\t\t0.185151\n",
      "  validation loss:\t\t1.049541\n",
      "  training accuracy:\t\t92.23 %\n",
      "  validation accuracy:\t\t75.62 %\n",
      "Epoch 46 of 80 time elapsed 12.213s\n",
      "  training loss:\t\t0.192719\n",
      "  validation loss:\t\t0.998281\n",
      "  training accuracy:\t\t91.78 %\n",
      "  validation accuracy:\t\t76.09 %\n",
      "Epoch 47 of 80 time elapsed 12.486s\n",
      "  training loss:\t\t0.176988\n",
      "  validation loss:\t\t1.047978\n",
      "  training accuracy:\t\t93.17 %\n",
      "  validation accuracy:\t\t75.78 %\n",
      "Epoch 48 of 80 time elapsed 12.760s\n",
      "  training loss:\t\t0.192038\n",
      "  validation loss:\t\t1.149443\n",
      "  training accuracy:\t\t92.35 %\n",
      "  validation accuracy:\t\t75.31 %\n",
      "Epoch 49 of 80 time elapsed 13.031s\n",
      "  training loss:\t\t0.192546\n",
      "  validation loss:\t\t1.049649\n",
      "  training accuracy:\t\t91.65 %\n",
      "  validation accuracy:\t\t76.09 %\n",
      "Epoch 50 of 80 time elapsed 13.301s\n",
      "  training loss:\t\t0.190402\n",
      "  validation loss:\t\t1.087051\n",
      "  training accuracy:\t\t92.15 %\n",
      "  validation accuracy:\t\t76.41 %\n",
      "Epoch 51 of 80 time elapsed 13.573s\n",
      "  training loss:\t\t0.172711\n",
      "  validation loss:\t\t1.063931\n",
      "  training accuracy:\t\t92.27 %\n",
      "  validation accuracy:\t\t75.31 %\n",
      "Epoch 52 of 80 time elapsed 13.853s\n",
      "  training loss:\t\t0.183372\n",
      "  validation loss:\t\t1.082522\n",
      "  training accuracy:\t\t92.72 %\n",
      "  validation accuracy:\t\t75.47 %\n",
      "Epoch 53 of 80 time elapsed 14.128s\n",
      "  training loss:\t\t0.189659\n",
      "  validation loss:\t\t1.071080\n",
      "  training accuracy:\t\t92.11 %\n",
      "  validation accuracy:\t\t76.41 %\n",
      "Epoch 54 of 80 time elapsed 14.394s\n",
      "  training loss:\t\t0.175962\n",
      "  validation loss:\t\t1.136218\n",
      "  training accuracy:\t\t92.72 %\n",
      "  validation accuracy:\t\t75.00 %\n",
      "Epoch 55 of 80 time elapsed 14.667s\n",
      "  training loss:\t\t0.169955\n",
      "  validation loss:\t\t1.123299\n",
      "  training accuracy:\t\t92.76 %\n",
      "  validation accuracy:\t\t76.09 %\n",
      "Epoch 56 of 80 time elapsed 14.934s\n",
      "  training loss:\t\t0.172079\n",
      "  validation loss:\t\t1.111096\n",
      "  training accuracy:\t\t92.89 %\n",
      "  validation accuracy:\t\t75.47 %\n",
      "Epoch 57 of 80 time elapsed 15.201s\n",
      "  training loss:\t\t0.182867\n",
      "  validation loss:\t\t1.086331\n",
      "  training accuracy:\t\t92.52 %\n",
      "  validation accuracy:\t\t75.94 %\n",
      "Epoch 58 of 80 time elapsed 15.501s\n",
      "  training loss:\t\t0.186257\n",
      "  validation loss:\t\t1.180740\n",
      "  training accuracy:\t\t92.35 %\n",
      "  validation accuracy:\t\t75.62 %\n",
      "Epoch 59 of 80 time elapsed 15.844s\n",
      "  training loss:\t\t0.166665\n",
      "  validation loss:\t\t1.195616\n",
      "  training accuracy:\t\t93.01 %\n",
      "  validation accuracy:\t\t75.47 %\n",
      "Epoch 60 of 80 time elapsed 16.193s\n",
      "  training loss:\t\t0.166927\n",
      "  validation loss:\t\t1.172126\n",
      "  training accuracy:\t\t92.97 %\n",
      "  validation accuracy:\t\t75.31 %\n",
      "Epoch 61 of 80 time elapsed 16.510s\n",
      "  training loss:\t\t0.153975\n",
      "  validation loss:\t\t1.120659\n",
      "  training accuracy:\t\t93.50 %\n",
      "  validation accuracy:\t\t76.41 %\n",
      "Epoch 62 of 80 time elapsed 16.868s\n",
      "  training loss:\t\t0.172289\n",
      "  validation loss:\t\t1.136208\n",
      "  training accuracy:\t\t93.05 %\n",
      "  validation accuracy:\t\t75.16 %\n",
      "Epoch 63 of 80 time elapsed 17.166s\n",
      "  training loss:\t\t0.154623\n",
      "  validation loss:\t\t1.163755\n",
      "  training accuracy:\t\t93.71 %\n",
      "  validation accuracy:\t\t74.53 %\n",
      "Epoch 64 of 80 time elapsed 17.465s\n",
      "  training loss:\t\t0.165401\n",
      "  validation loss:\t\t1.187017\n",
      "  training accuracy:\t\t93.01 %\n",
      "  validation accuracy:\t\t75.31 %\n",
      "Epoch 65 of 80 time elapsed 17.756s\n",
      "  training loss:\t\t0.150237\n",
      "  validation loss:\t\t1.197934\n",
      "  training accuracy:\t\t94.16 %\n",
      "  validation accuracy:\t\t75.47 %\n",
      "Epoch 66 of 80 time elapsed 18.048s\n",
      "  training loss:\t\t0.159940\n",
      "  validation loss:\t\t1.408773\n",
      "  training accuracy:\t\t93.96 %\n",
      "  validation accuracy:\t\t75.31 %\n",
      "Epoch 67 of 80 time elapsed 18.337s\n",
      "  training loss:\t\t0.174225\n",
      "  validation loss:\t\t1.164674\n",
      "  training accuracy:\t\t92.56 %\n",
      "  validation accuracy:\t\t75.16 %\n",
      "Epoch 68 of 80 time elapsed 18.625s\n",
      "  training loss:\t\t0.158366\n",
      "  validation loss:\t\t1.217839\n",
      "  training accuracy:\t\t93.38 %\n",
      "  validation accuracy:\t\t75.47 %\n",
      "Epoch 69 of 80 time elapsed 18.913s\n",
      "  training loss:\t\t0.147981\n",
      "  validation loss:\t\t1.317361\n",
      "  training accuracy:\t\t94.04 %\n",
      "  validation accuracy:\t\t74.69 %\n",
      "Epoch 70 of 80 time elapsed 19.206s\n",
      "  training loss:\t\t0.163380\n",
      "  validation loss:\t\t1.231518\n",
      "  training accuracy:\t\t93.13 %\n",
      "  validation accuracy:\t\t75.78 %\n",
      "Epoch 71 of 80 time elapsed 19.508s\n",
      "  training loss:\t\t0.149447\n",
      "  validation loss:\t\t1.280646\n",
      "  training accuracy:\t\t93.75 %\n",
      "  validation accuracy:\t\t75.31 %\n",
      "Epoch 72 of 80 time elapsed 19.809s\n",
      "  training loss:\t\t0.156145\n",
      "  validation loss:\t\t1.239825\n",
      "  training accuracy:\t\t93.79 %\n",
      "  validation accuracy:\t\t76.41 %\n",
      "Epoch 73 of 80 time elapsed 20.171s\n",
      "  training loss:\t\t0.155871\n",
      "  validation loss:\t\t1.199442\n",
      "  training accuracy:\t\t93.38 %\n",
      "  validation accuracy:\t\t75.47 %\n",
      "Epoch 74 of 80 time elapsed 20.492s\n",
      "  training loss:\t\t0.150546\n",
      "  validation loss:\t\t1.254731\n",
      "  training accuracy:\t\t93.42 %\n",
      "  validation accuracy:\t\t75.62 %\n",
      "Epoch 75 of 80 time elapsed 20.815s\n",
      "  training loss:\t\t0.151264\n",
      "  validation loss:\t\t1.292623\n",
      "  training accuracy:\t\t93.59 %\n",
      "  validation accuracy:\t\t75.47 %\n",
      "Epoch 76 of 80 time elapsed 21.129s\n",
      "  training loss:\t\t0.150849\n",
      "  validation loss:\t\t1.229852\n",
      "  training accuracy:\t\t94.00 %\n",
      "  validation accuracy:\t\t74.69 %\n",
      "Epoch 77 of 80 time elapsed 21.425s\n",
      "  training loss:\t\t0.142646\n",
      "  validation loss:\t\t1.221507\n",
      "  training accuracy:\t\t94.82 %\n",
      "  validation accuracy:\t\t76.09 %\n",
      "Epoch 78 of 80 time elapsed 21.735s\n",
      "  training loss:\t\t0.138869\n",
      "  validation loss:\t\t1.258508\n",
      "  training accuracy:\t\t94.28 %\n",
      "  validation accuracy:\t\t75.94 %\n",
      "Epoch 79 of 80 time elapsed 22.040s\n",
      "  training loss:\t\t0.141389\n",
      "  validation loss:\t\t1.314633\n",
      "  training accuracy:\t\t93.91 %\n",
      "  validation accuracy:\t\t75.16 %\n",
      "Epoch 80 of 80 time elapsed 22.347s\n",
      "  training loss:\t\t0.146385\n",
      "  validation loss:\t\t1.308442\n",
      "  training accuracy:\t\t94.37 %\n",
      "  validation accuracy:\t\t76.25 %\n"
     ]
    }
   ],
   "source": [
    "# Number of epochs\n",
    "num_epochs = 80\n",
    "\n",
    "# Lists to save loss and accuracy of each epoch\n",
    "loss_training = []\n",
    "loss_validation = []\n",
    "acc_training = []\n",
    "acc_validation = []\n",
    "start_time = time.time()\n",
    "min_val_loss = float(\"inf\")\n",
    "\n",
    "# Start training \n",
    "for epoch in range(num_epochs):\n",
    "    \n",
    "    # Full pass training set\n",
    "    train_err = 0\n",
    "    train_batches = 0\n",
    "    confusion_train = ConfusionMatrix(n_class)\n",
    "\n",
    "    # Generate minibatches and train on each one of them\n",
    "    for batch in iterate_minibatches(X_train.astype(np.float32), y_train.astype(np.int32), \n",
    "                                     mask_train.astype(np.float32), batch_size, shuffle=True, sort_len=False):\n",
    "        # Inputs to the network\n",
    "        inputs, targets, in_masks = batch\n",
    "        # Calculate loss and prediction\n",
    "        tr_err, predict = train_fn(inputs, targets)\n",
    "        train_err += tr_err\n",
    "        train_batches += 1\n",
    "        # Get the predicted class, the one with the maximum likelihood\n",
    "        preds = np.argmax(predict, axis=-1)\n",
    "        confusion_train.batch_add(targets, preds)\n",
    "    \n",
    "    # Average loss and accuracy\n",
    "    train_loss = train_err / train_batches\n",
    "    train_accuracy = confusion_train.accuracy()\n",
    "    cf_train = confusion_train.ret_mat()\n",
    "\n",
    "    val_err = 0\n",
    "    val_batches = 0\n",
    "    confusion_valid = ConfusionMatrix(n_class)\n",
    "\n",
    "    # Generate minibatches and validate on each one of them, same procedure as before\n",
    "    for batch in iterate_minibatches(X_val.astype(np.float32), y_val.astype(np.int32), \n",
    "                                     mask_val.astype(np.float32), batch_size, shuffle=True, sort_len=False):\n",
    "        inputs, targets, in_masks = batch\n",
    "        err, predict_val = val_fn(inputs, targets)\n",
    "        val_err += err\n",
    "        val_batches += 1\n",
    "        preds = np.argmax(predict_val, axis=-1)\n",
    "        confusion_valid.batch_add(targets, preds)\n",
    "\n",
    "    val_loss = val_err / val_batches\n",
    "    val_accuracy = confusion_valid.accuracy()\n",
    "    cf_val = confusion_valid.ret_mat()\n",
    "    \n",
    "    loss_training.append(train_loss)\n",
    "    loss_validation.append(val_loss)\n",
    "    acc_training.append(train_accuracy)\n",
    "    acc_validation.append(val_accuracy)\n",
    "    \n",
    "    # Save the model parameters at the epoch with the lowest validation loss\n",
    "    if min_val_loss > val_loss:\n",
    "        min_val_loss = val_loss\n",
    "        np.savez('params/FFN_params.npz', *lasagne.layers.get_all_param_values(l_out))\n",
    "    \n",
    "    print(\"Epoch {} of {} time elapsed {:.3f}s\".format(epoch + 1, num_epochs, time.time() - start_time))\n",
    "    print(\"  training loss:\\t\\t{:.6f}\".format(train_loss))\n",
    "    print(\"  validation loss:\\t\\t{:.6f}\".format(val_loss))\n",
    "    print(\"  training accuracy:\\t\\t{:.2f} %\".format(train_accuracy * 100))\n",
    "    print(\"  validation accuracy:\\t\\t{:.2f} %\".format(val_accuracy * 100))"
   ]
  },
  {
   "cell_type": "code",
   "execution_count": 11,
   "metadata": {
    "collapsed": false
   },
   "outputs": [
    {
     "name": "stdout",
     "output_type": "stream",
     "text": [
      "Minimum validation loss: 0.829231\n"
     ]
    }
   ],
   "source": [
    "print(\"Minimum validation loss: {:.6f}\".format(min_val_loss))"
   ]
  },
  {
   "cell_type": "markdown",
   "metadata": {},
   "source": [
    "### Model loss and accuracy\n",
    "Here we plot the loss and the accuracy for the training and validation set at each epoch."
   ]
  },
  {
   "cell_type": "code",
   "execution_count": 12,
   "metadata": {
    "collapsed": false
   },
   "outputs": [
    {
     "data": {
      "image/png": "[encoded data removed]",
      "text/plain": [
       "<matplotlib.figure.Figure at 0x11b08b860>"
      ]
     },
     "metadata": {},
     "output_type": "display_data"
    }
   ],
   "source": [
    "x_axis = range(num_epochs)\n",
    "plt.figure(figsize=(8,6))\n",
    "plt.plot(x_axis,loss_training)\n",
    "plt.plot(x_axis,loss_validation)\n",
    "plt.xlabel('Epoch')\n",
    "plt.ylabel('Error')\n",
    "plt.legend(('Training','Validation'));"
   ]
  },
  {
   "cell_type": "code",
   "execution_count": 13,
   "metadata": {
    "collapsed": false
   },
   "outputs": [
    {
     "data": {
      "image/png": "[encoded data removed]",
      "text/plain": [
       "<matplotlib.figure.Figure at 0x126b4ecf8>"
      ]
     },
     "metadata": {},
     "output_type": "display_data"
    }
   ],
   "source": [
    "plt.figure(figsize=(8,6))\n",
    "plt.plot(x_axis,acc_training)\n",
    "plt.plot(x_axis,acc_validation)\n",
    "plt.xlabel('Epoch')\n",
    "plt.ylabel('Accuracy')\n",
    "plt.legend(('Training','Validation'));"
   ]
  },
  {
   "cell_type": "markdown",
   "metadata": {},
   "source": [
    "### Confusion matrix\n",
    "The confusion matrix allows us to visualize how well is predicted each class and which are the most common misclassifications."
   ]
  },
  {
   "cell_type": "code",
   "execution_count": 14,
   "metadata": {
    "collapsed": false
   },
   "outputs": [
    {
     "data": {
      "image/png": "[encoded data removed]",
      "text/plain": [
       "<matplotlib.figure.Figure at 0x1268c8160>"
      ]
     },
     "metadata": {},
     "output_type": "display_data"
    }
   ],
   "source": [
    "# Plot confusion matrix \n",
    "# Code based on http://scikit-learn.org/stable/auto_examples/model_selection/plot_confusion_matrix.html\n",
    "\n",
    "plt.figure(figsize=(8,8))\n",
    "cmap=plt.cm.Blues   \n",
    "plt.imshow(cf_val, interpolation='nearest', cmap=cmap)\n",
    "plt.title('Confusion matrix validation set')\n",
    "plt.colorbar()\n",
    "tick_marks = np.arange(n_class)\n",
    "classes = ['Nucleus','Cytoplasm','Extracellular','Mitochondrion','Cell membrane','ER',\n",
    "           'Chloroplast','Golgi apparatus','Lysosome','Vacuole']\n",
    "\n",
    "plt.xticks(tick_marks, classes, rotation=60)\n",
    "plt.yticks(tick_marks, classes)\n",
    "\n",
    "thresh = cf_val.max() / 2.\n",
    "for i, j in itertools.product(range(cf_val.shape[0]), range(cf_val.shape[1])):\n",
    "    plt.text(j, i, cf_val[i, j],\n",
    "             horizontalalignment=\"center\",\n",
    "             color=\"white\" if cf_val[i, j] > thresh else \"black\")\n",
    "\n",
    "plt.tight_layout()\n",
    "plt.ylabel('True location')\n",
    "plt.xlabel('Predicted location');"
   ]
  },
  {
   "cell_type": "code",
   "execution_count": null,
   "metadata": {
    "collapsed": true
   },
   "outputs": [],
   "source": []
  }
 ],
 "metadata": {
  "kernelspec": {
   "display_name": "Python 3",
   "language": "python",
   "name": "python3"
  },
  "language_info": {
   "codemirror_mode": {
    "name": "ipython",
    "version": 3
   },
   "file_extension": ".py",
   "mimetype": "text/x-python",
   "name": "python",
   "nbconvert_exporter": "python",
   "pygments_lexer": "ipython3",
   "version": "3.6.0"
  }
 },
 "nbformat": 4,
 "nbformat_minor": 2
}
