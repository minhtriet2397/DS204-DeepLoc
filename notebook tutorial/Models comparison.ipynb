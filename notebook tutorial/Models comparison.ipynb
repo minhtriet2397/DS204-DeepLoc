{
 "cells": [
  {
   "cell_type": "markdown",
   "metadata": {},
   "source": [
    "## Models comparison\n",
    "Once that we have trained the four different models, we want to compare their performance on the validation set."
   ]
  },
  {
   "cell_type": "code",
   "execution_count": 1,
   "metadata": {
    "collapsed": false
   },
   "outputs": [],
   "source": [
    "# Import all the necessary modules\n",
    "import os\n",
    "os.environ[\"THEANO_FLAGS\"] = \"mode=FAST_RUN,optimizer=None,device=cpu,floatX=float32\"\n",
    "import sys\n",
    "sys.path.insert(0,'..')\n",
    "import numpy as np\n",
    "import theano\n",
    "import theano.tensor as T\n",
    "import lasagne\n",
    "from confusionmatrix import ConfusionMatrix\n",
    "from utils import iterate_minibatches, LSTMAttentionDecodeFeedbackLayer\n",
    "from models import *\n",
    "import matplotlib.pyplot as plt\n",
    "import time\n",
    "import itertools\n",
    "%matplotlib inline"
   ]
  },
  {
   "cell_type": "markdown",
   "metadata": {},
   "source": [
    "### Load validation set\n",
    "We load the validation set as before, but now we set the batch_size to be equal to the size of the dataset. We do this because we want don't need to divide the dataset at inference time, as it is quite fast even with many examples."
   ]
  },
  {
   "cell_type": "code",
   "execution_count": 2,
   "metadata": {
    "collapsed": false
   },
   "outputs": [
    {
     "name": "stdout",
     "output_type": "stream",
     "text": [
      "(635, 400, 20)\n"
     ]
    }
   ],
   "source": [
    "validation = np.load('data/reduced_val.npz')\n",
    "X_val = validation['X_val']\n",
    "y_val = validation['y_val']\n",
    "mask_val = validation['mask_val']\n",
    "print(X_val.shape)"
   ]
  },
  {
   "cell_type": "code",
   "execution_count": 3,
   "metadata": {
    "collapsed": true
   },
   "outputs": [],
   "source": [
    "batch_size = X_val.shape[0]\n",
    "seq_len = 400\n",
    "n_feat = 20\n",
    "n_hid = 15\n",
    "n_class = 10\n",
    "lr = 0.0025\n",
    "n_filt = 10\n",
    "drop_prob = 0.5"
   ]
  },
  {
   "cell_type": "markdown",
   "metadata": {},
   "source": [
    "### Compile the four different models\n",
    "The models architecture are defined in the script 'models.py'. They are exactly the same as the ones in the previous notebooks. Here we are compiling them again and returning the validation function and the empty network parameters."
   ]
  },
  {
   "cell_type": "code",
   "execution_count": 13,
   "metadata": {
    "collapsed": false
   },
   "outputs": [],
   "source": [
    "_, val_fn_ffn, ffn_params = FFN(batch_size, seq_len, n_hid, n_feat, n_class, lr, drop_prob)\n",
    "_, val_fn_cnn, cnn_params = CNN(batch_size, seq_len, n_hid, n_feat, n_class, n_filt, lr, drop_prob)\n",
    "_, val_fn_cnn_lstm, cnn_lstm_params = CNN_LSTM(batch_size, seq_len, n_hid, n_feat, n_class, n_filt, lr, drop_prob)\n",
    "_, val_fn_cnn_lstm_att, cnn_lstm_att_params = CNN_LSTM_Att(batch_size, seq_len, n_hid, n_feat, n_class, n_filt, lr, drop_prob)"
   ]
  },
  {
   "cell_type": "markdown",
   "metadata": {},
   "source": [
    "### Load networks parameters\n",
    "Once that the four models have been built, we load the learned parameters for each model."
   ]
  },
  {
   "cell_type": "code",
   "execution_count": 5,
   "metadata": {
    "collapsed": false
   },
   "outputs": [],
   "source": [
    "with np.load('params/FFN_params.npz') as f:\n",
    "    param_values = [f['arr_%d' % i] for i in range(len(f.files))]\n",
    "lasagne.layers.set_all_param_values(ffn_params, param_values)\n",
    "with np.load('params/CNN_params.npz') as f:\n",
    "    param_values = [f['arr_%d' % i].astype(np.float32) for i in range(len(f.files))]\n",
    "lasagne.layers.set_all_param_values(cnn_params, param_values)\n",
    "with np.load('params/CNN-LSTM_params.npz') as f:\n",
    "    param_values = [f['arr_%d' % i].astype(np.float32) for i in range(len(f.files))]\n",
    "lasagne.layers.set_all_param_values(cnn_lstm_params, param_values)\n",
    "with np.load('params/CNN-LSTM-Attention_params.npz') as f:\n",
    "    param_values = [f['arr_%d' % i].astype(np.float32) for i in range(len(f.files))]\n",
    "lasagne.layers.set_all_param_values(cnn_lstm_att_params, param_values)"
   ]
  },
  {
   "cell_type": "markdown",
   "metadata": {},
   "source": [
    "### Calculate validation performance\n",
    "The last step is to run our data through the models and calculate the loss and the accuracy on the validation set."
   ]
  },
  {
   "cell_type": "markdown",
   "metadata": {},
   "source": [
    "#### Feedforward neural network"
   ]
  },
  {
   "cell_type": "code",
   "execution_count": 6,
   "metadata": {
    "collapsed": false
   },
   "outputs": [],
   "source": [
    "# Initialize confusion matrix\n",
    "confusion_ffn = ConfusionMatrix(n_class)\n",
    "# Perform prediction\n",
    "err_ffn, predict_ffn = val_fn_ffn(X_val.astype(np.float32), y_val.astype(np.int32))\n",
    "preds_ffn = np.argmax(predict_ffn, axis=-1)\n",
    "# Calculate accuracy\n",
    "confusion_ffn.batch_add(y_val, preds_ffn)\n",
    "ffn_accuracy = confusion_ffn.accuracy()\n",
    "cf_ffn = confusion_ffn.ret_mat()"
   ]
  },
  {
   "cell_type": "markdown",
   "metadata": {},
   "source": [
    "#### Convolutional neural network"
   ]
  },
  {
   "cell_type": "code",
   "execution_count": 7,
   "metadata": {
    "collapsed": true
   },
   "outputs": [],
   "source": [
    "# Initialize confusion matrix\n",
    "confusion_cnn = ConfusionMatrix(n_class)\n",
    "# Perform prediction\n",
    "err_cnn, predict_cnn = val_fn_cnn(X_val.astype(np.float32), y_val.astype(np.int32))\n",
    "preds_cnn = np.argmax(predict_cnn, axis=-1)\n",
    "# Calculate accuracy\n",
    "confusion_cnn.batch_add(y_val, preds_cnn)\n",
    "cnn_accuracy = confusion_cnn.accuracy()\n",
    "cf_cnn = confusion_cnn.ret_mat()"
   ]
  },
  {
   "cell_type": "markdown",
   "metadata": {},
   "source": [
    "#### Convolutional LSTM"
   ]
  },
  {
   "cell_type": "code",
   "execution_count": 8,
   "metadata": {
    "collapsed": true
   },
   "outputs": [],
   "source": [
    "# Initialize confusion matrix\n",
    "confusion_cnn_lstm = ConfusionMatrix(n_class)\n",
    "# Perform prediction\n",
    "err_cnn_lstm, predict_cnn_lstm = val_fn_cnn_lstm(\n",
    "    X_val.astype(np.float32), y_val.astype(np.int32), mask_val.astype(np.float32))\n",
    "preds_cnn_lstm = np.argmax(predict_cnn_lstm, axis=-1)\n",
    "# Calculate accuracy\n",
    "confusion_cnn_lstm.batch_add(y_val, preds_cnn_lstm)\n",
    "cnn_lstm_accuracy = confusion_cnn_lstm.accuracy()\n",
    "cf_cnn_lstm = confusion_cnn_lstm.ret_mat()"
   ]
  },
  {
   "cell_type": "markdown",
   "metadata": {},
   "source": [
    "#### Convolutional LSTM with attention mechanism"
   ]
  },
  {
   "cell_type": "code",
   "execution_count": 9,
   "metadata": {
    "collapsed": true
   },
   "outputs": [],
   "source": [
    "# Initialize confusion matrix\n",
    "confusion_cnn_lstm_att = ConfusionMatrix(n_class)\n",
    "# Perform prediction\n",
    "err_cnn_lstm_att, predict_cnn_lstm_att, alphas = val_fn_cnn_lstm_att(\n",
    "    X_val.astype(np.float32), y_val.astype(np.int32), mask_val.astype(np.float32))\n",
    "preds_cnn_lstm_att  = np.argmax(predict_cnn_lstm_att, axis=-1)\n",
    "# Calculate accuracy\n",
    "confusion_cnn_lstm_att.batch_add(y_val, preds_cnn_lstm_att)\n",
    "cnn_lstm_att_accuracy = confusion_cnn_lstm_att.accuracy()\n",
    "cf_cnn_lstm_att = confusion_cnn_lstm_att.ret_mat()"
   ]
  },
  {
   "cell_type": "markdown",
   "metadata": {},
   "source": [
    "### Comparison\n",
    "Finally, we plot the loss and the accuracy for each model. We can observe that the CNN-LSTM-Attention achieves best performance."
   ]
  },
  {
   "cell_type": "code",
   "execution_count": 10,
   "metadata": {
    "collapsed": false,
    "scrolled": true
   },
   "outputs": [
    {
     "data": {
      "image/png": "[encoded data removed]",
      "text/plain": [
       "<matplotlib.figure.Figure at 0x11ac7b748>"
      ]
     },
     "metadata": {},
     "output_type": "display_data"
    }
   ],
   "source": [
    "plt.figure(figsize=(8,4))\n",
    "x = np.arange(4)\n",
    "errors = [err_ffn,err_cnn,err_cnn_lstm,err_cnn_lstm_att]\n",
    "plt.bar(x, errors)\n",
    "plt.title('Error comparison')\n",
    "plt.ylabel('Error')\n",
    "plt.xticks(x, ['FFN','CNN','CNN-LSTM','CNN-LSTM-Attention'], rotation=60)\n",
    "for i, v in enumerate(errors):\n",
    "    plt.text(i-0.15,v-0.06, '%.3f' % v, color='white',fontweight='bold');"
   ]
  },
  {
   "cell_type": "code",
   "execution_count": 11,
   "metadata": {
    "collapsed": false
   },
   "outputs": [
    {
     "data": {
      "image/png": "[encoded data removed]",
      "text/plain": [
       "<matplotlib.figure.Figure at 0x11e639fd0>"
      ]
     },
     "metadata": {},
     "output_type": "display_data"
    }
   ],
   "source": [
    "plt.figure(figsize=(8,4))\n",
    "x = np.arange(4)\n",
    "accs = [ffn_accuracy,cnn_accuracy,cnn_lstm_accuracy,cnn_lstm_att_accuracy]\n",
    "plt.bar(x, accs)\n",
    "plt.title('Accuracy comparison')\n",
    "plt.ylabel('Accuracy')\n",
    "plt.xticks(x, ['FFN','CNN','CNN-LSTM','CNN-LSTM-Attention'], rotation=60)\n",
    "for i, v in enumerate(accs):\n",
    "    plt.text(i-0.15,v-0.06, '%.3f' % v, color='white',fontweight='bold');"
   ]
  }
 ],
 "metadata": {
  "kernelspec": {
   "display_name": "Python 3",
   "language": "python",
   "name": "python3"
  },
  "language_info": {
   "codemirror_mode": {
    "name": "ipython",
    "version": 3
   },
   "file_extension": ".py",
   "mimetype": "text/x-python",
   "name": "python",
   "nbconvert_exporter": "python",
   "pygments_lexer": "ipython3",
   "version": "3.6.0"
  }
 },
 "nbformat": 4,
 "nbformat_minor": 2
}
